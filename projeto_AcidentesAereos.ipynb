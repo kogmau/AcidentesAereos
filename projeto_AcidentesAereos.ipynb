{
  "nbformat": 4,
  "nbformat_minor": 0,
  "metadata": {
    "colab": {
      "name": "projeto_AcidentesAereos.ipynb",
      "provenance": [],
      "collapsed_sections": [],
      "toc_visible": true
    },
    "kernelspec": {
      "name": "python3",
      "display_name": "Python 3"
    },
    "language_info": {
      "name": "python"
    }
  },
  "cells": [
    {
      "cell_type": "markdown",
      "metadata": {
        "id": "1SUGjFUpsgCR"
      },
      "source": [
        "# Importação bibliotecas\n",
        "* `Pandas` é uma biblioteca para uso em Python, open-source e de uso gratuito (sob uma licença BSD), que fornece ferramentas para análise e manipulação de dados. É derivado de panel data (dados em painel), um termo de econometria para conjuntos de dados estruturados. O surgimento da biblioteca, no início de 2008, começou devido a insatisfação de McKinney de obter uma ferramenta de processamento de dados de alto desempenho, com recursos flexíveis de manipulação de planilhas e de banco de dados relacionais. É uma Serie é uma matriz unidimensional que contém uma sequência de valores que apresentam uma indexação (que podem ser numéricos inteiros ou rótulos), muito parecida com uma única coluna no Excel.\n",
        "* `NumPy` é uma biblioteca para a linguagem Python com funções para se trabalhar com computação numérica. Seu principal objeto é o vetor n-dimensional, ou ndarray. Um vetor n-dimensional também é conhecido pelo nome tensor. A principal característica do ndarray é que ele deve ser homogêneo, ou seja, diferentemente do objeto lista, todos os seus elementos devem ser do mesmo tipo.\n",
        "* `Matplotlib` é uma biblioteca de software para criação de gráficos e visualizações de dados em geral, feita para e da linguagem de programação Python e sua extensão de matemática NumPy. Oferece uma interface de programação orientada a objetos para incluir gráficos em aplicações usando toolkits de interface gráfica, como Tkinter, WxPython, Qt ou GTK.\n",
        "* `Seaborn` é uma biblioteca que atua em cima do matplotlib e ajuda a melhorar o visual dos gráficos, dando uma aparência mais bem acabada. É mais voltada para essa área de estatística.\n",
        "* O método `datetime` strftime(formato), que retorna uma string representando a data e a hora, de acordo com o formato passado como parâmetro. Para retornar a data como uma string no format ISO 8601, use o método datetime. isoformat() .\n"
      ]
    },
    {
      "cell_type": "code",
      "metadata": {
        "id": "vR1leFpS6wUF"
      },
      "source": [
        "import pandas as pd\n",
        "import numpy as np\n",
        "import matplotlib.pyplot as plt\n",
        "import matplotlib.ticker as mtick\n",
        "import seaborn as sns\n",
        "from datetime import datetime\n"
      ],
      "execution_count": 2,
      "outputs": []
    },
    {
      "cell_type": "markdown",
      "metadata": {
        "id": "qKq1anAxDvLI"
      },
      "source": [
        "# Criação de conecxão com o endereço do arquivo no google driver."
      ]
    },
    {
      "cell_type": "code",
      "metadata": {
        "colab": {
          "base_uri": "https://localhost:8080/"
        },
        "id": "kEboSdFM_ARJ",
        "outputId": "8cf4b38d-abac-40d6-dbfc-31cad9e0ef0e"
      },
      "source": [
        "from google.colab import drive\n",
        "drive.mount('/content/drive')"
      ],
      "execution_count": 3,
      "outputs": [
        {
          "output_type": "stream",
          "name": "stdout",
          "text": [
            "Mounted at /content/drive\n"
          ]
        }
      ]
    },
    {
      "cell_type": "markdown",
      "metadata": {
        "id": "JJPvsmSGD6l_"
      },
      "source": [
        "# Importação do dataset conforme caminho especificado na conecxão com google driver.\n"
      ]
    },
    {
      "cell_type": "code",
      "metadata": {
        "id": "GsbPi6v57TPK",
        "colab": {
          "base_uri": "https://localhost:8080/"
        },
        "outputId": "9372cee1-a4a7-49e5-846c-343fe28b9b85"
      },
      "source": [
        "ocorrencias = pd.read_csv('/content/drive/MyDrive/projeto 4º semestre/ocorrencias_cenipa.csv', sep=\";\", index_col=0)\n",
        "ocorrencias.shape"
      ],
      "execution_count": 4,
      "outputs": [
        {
          "output_type": "execute_result",
          "data": {
            "text/plain": [
              "(5242, 20)"
            ]
          },
          "metadata": {},
          "execution_count": 4
        }
      ]
    },
    {
      "cell_type": "markdown",
      "metadata": {
        "id": "Z1a9CZa0FRx0"
      },
      "source": [
        "* Visualização dos tipos de variaveis."
      ]
    },
    {
      "cell_type": "code",
      "metadata": {
        "colab": {
          "base_uri": "https://localhost:8080/"
        },
        "id": "zNnlTLTKA562",
        "outputId": "db3c199e-74d8-4f18-90f5-09ed4128b9f5"
      },
      "source": [
        "ocorrencias.dtypes"
      ],
      "execution_count": null,
      "outputs": [
        {
          "output_type": "execute_result",
          "data": {
            "text/plain": [
              "tipo                                 object\n",
              "descricao                            object\n",
              "cidade                               object\n",
              "estado                               object\n",
              "data                         datetime64[ns]\n",
              "ano                                   int64\n",
              "hora                                 object\n",
              "aeronave_liberada                    object\n",
              "status_investigacao                  object\n",
              "aeronaves_envolvidas                  int64\n",
              "ocorrencia_saida_pista               object\n",
              "aeronave_tipo                        object\n",
              "aeronave_fabricante                  object\n",
              "motor_tipo                           object\n",
              "aeronave_motor_quantidade            object\n",
              "aeronave_assentos                     int64\n",
              "aeronave_ano_fabricacao               int64\n",
              "aeronave_pais_fabricante             object\n",
              "aeronave_fase_operacao               object\n",
              "aeronave_nivel_dano                  object\n",
              "dtype: object"
            ]
          },
          "metadata": {},
          "execution_count": 23
        }
      ]
    },
    {
      "cell_type": "markdown",
      "metadata": {
        "id": "cm0QeTmHf3cs"
      },
      "source": [
        "# Conversão do campo data de \"object\" para \"datetime64\".\n",
        "* tratamento dos dados do dataset"
      ]
    },
    {
      "cell_type": "code",
      "metadata": {
        "id": "HmGoxY8GWP2w"
      },
      "source": [
        "ocorrencias['data'] = pd.to_datetime(ocorrencias['data'], format='%d/%m/%Y')"
      ],
      "execution_count": null,
      "outputs": []
    },
    {
      "cell_type": "markdown",
      "metadata": {
        "id": "cgp_H-ITgsJk"
      },
      "source": [
        "# Tratamento de dados\n",
        "* Substituindo os espaços nos cabeçalhos das colunas do dataset por underline. "
      ]
    },
    {
      "cell_type": "code",
      "metadata": {
        "colab": {
          "base_uri": "https://localhost:8080/",
          "height": 431
        },
        "id": "KCjMotJp70NG",
        "outputId": "bc823dbc-a9e6-4b85-f826-c18774abb430"
      },
      "source": [
        "ocorrencias.columns = [c.replace(' ', '_') for c in ocorrencias.columns]\n",
        "\n",
        "display(ocorrencias.head())\n"
      ],
      "execution_count": null,
      "outputs": [
        {
          "output_type": "display_data",
          "data": {
            "text/html": [
              "<div>\n",
              "<style scoped>\n",
              "    .dataframe tbody tr th:only-of-type {\n",
              "        vertical-align: middle;\n",
              "    }\n",
              "\n",
              "    .dataframe tbody tr th {\n",
              "        vertical-align: top;\n",
              "    }\n",
              "\n",
              "    .dataframe thead th {\n",
              "        text-align: right;\n",
              "    }\n",
              "</style>\n",
              "<table border=\"1\" class=\"dataframe\">\n",
              "  <thead>\n",
              "    <tr style=\"text-align: right;\">\n",
              "      <th></th>\n",
              "      <th>tipo</th>\n",
              "      <th>descricao</th>\n",
              "      <th>cidade</th>\n",
              "      <th>estado</th>\n",
              "      <th>data</th>\n",
              "      <th>ano</th>\n",
              "      <th>hora</th>\n",
              "      <th>aeronave_liberada</th>\n",
              "      <th>status_investigacao</th>\n",
              "      <th>aeronaves_envolvidas</th>\n",
              "      <th>ocorrencia_saida_pista</th>\n",
              "      <th>aeronave_tipo</th>\n",
              "      <th>aeronave_fabricante</th>\n",
              "      <th>motor_tipo</th>\n",
              "      <th>aeronave_motor_quantidade</th>\n",
              "      <th>aeronave_assentos</th>\n",
              "      <th>aeronave_ano_fabricacao</th>\n",
              "      <th>aeronave_pais_fabricante</th>\n",
              "      <th>aeronave_fase_operacao</th>\n",
              "      <th>aeronave_nivel_dano</th>\n",
              "    </tr>\n",
              "    <tr>\n",
              "      <th>codigo</th>\n",
              "      <th></th>\n",
              "      <th></th>\n",
              "      <th></th>\n",
              "      <th></th>\n",
              "      <th></th>\n",
              "      <th></th>\n",
              "      <th></th>\n",
              "      <th></th>\n",
              "      <th></th>\n",
              "      <th></th>\n",
              "      <th></th>\n",
              "      <th></th>\n",
              "      <th></th>\n",
              "      <th></th>\n",
              "      <th></th>\n",
              "      <th></th>\n",
              "      <th></th>\n",
              "      <th></th>\n",
              "      <th></th>\n",
              "      <th></th>\n",
              "    </tr>\n",
              "  </thead>\n",
              "  <tbody>\n",
              "    <tr>\n",
              "      <th>40107</th>\n",
              "      <td>ACIDENTE</td>\n",
              "      <td>COLISÃO COM OBSTÁCULO DURANTE A DECOLAGEM E POUSO</td>\n",
              "      <td>GURUPÁ</td>\n",
              "      <td>PA</td>\n",
              "      <td>2010-01-12</td>\n",
              "      <td>2010</td>\n",
              "      <td>14:30:00</td>\n",
              "      <td>SIM</td>\n",
              "      <td>FINALIZADA</td>\n",
              "      <td>1</td>\n",
              "      <td>NÃO</td>\n",
              "      <td>AVIÃO</td>\n",
              "      <td>NEIVA INDUSTRIA AERONAUTICA</td>\n",
              "      <td>PISTÃO</td>\n",
              "      <td>MONOMOTOR</td>\n",
              "      <td>7</td>\n",
              "      <td>1977</td>\n",
              "      <td>BRASIL</td>\n",
              "      <td>POUSO</td>\n",
              "      <td>LEVE</td>\n",
              "    </tr>\n",
              "    <tr>\n",
              "      <th>40147</th>\n",
              "      <td>ACIDENTE</td>\n",
              "      <td>FALHA OU MAU FUNCIONAMENTO DE SISTEMA / COMPON...</td>\n",
              "      <td>UNIÃO DA VITÓRIA</td>\n",
              "      <td>PR</td>\n",
              "      <td>2010-04-08</td>\n",
              "      <td>2010</td>\n",
              "      <td>14:20:00</td>\n",
              "      <td>SIM</td>\n",
              "      <td>FINALIZADA</td>\n",
              "      <td>1</td>\n",
              "      <td>SIM</td>\n",
              "      <td>AVIÃO</td>\n",
              "      <td>PIPER AIRCRAFT</td>\n",
              "      <td>PISTÃO</td>\n",
              "      <td>BIMOTOR</td>\n",
              "      <td>6</td>\n",
              "      <td>1997</td>\n",
              "      <td>BRASIL</td>\n",
              "      <td>POUSO</td>\n",
              "      <td>SUBSTANCIAL</td>\n",
              "    </tr>\n",
              "    <tr>\n",
              "      <th>40148</th>\n",
              "      <td>ACIDENTE</td>\n",
              "      <td>PANE SECA</td>\n",
              "      <td>CAMPO GRANDE</td>\n",
              "      <td>MS</td>\n",
              "      <td>2010-03-19</td>\n",
              "      <td>2010</td>\n",
              "      <td>19:30:00</td>\n",
              "      <td>SIM</td>\n",
              "      <td>FINALIZADA</td>\n",
              "      <td>1</td>\n",
              "      <td>NÃO</td>\n",
              "      <td>AVIÃO</td>\n",
              "      <td>CESSNA AIRCRAFT</td>\n",
              "      <td>PISTÃO</td>\n",
              "      <td>MONOMOTOR</td>\n",
              "      <td>6</td>\n",
              "      <td>1962</td>\n",
              "      <td>BRASIL</td>\n",
              "      <td>APROXIMAÇÃO FINAL</td>\n",
              "      <td>SUBSTANCIAL</td>\n",
              "    </tr>\n",
              "    <tr>\n",
              "      <th>40149</th>\n",
              "      <td>ACIDENTE</td>\n",
              "      <td>FALHA DO MOTOR EM VOO</td>\n",
              "      <td>LUZIÂNIA</td>\n",
              "      <td>GO</td>\n",
              "      <td>2010-03-21</td>\n",
              "      <td>2010</td>\n",
              "      <td>20:45:00</td>\n",
              "      <td>SIM</td>\n",
              "      <td>FINALIZADA</td>\n",
              "      <td>1</td>\n",
              "      <td>NÃO</td>\n",
              "      <td>AVIÃO</td>\n",
              "      <td>XAVANTE</td>\n",
              "      <td>PISTÃO</td>\n",
              "      <td>MONOMOTOR</td>\n",
              "      <td>2</td>\n",
              "      <td>1974</td>\n",
              "      <td>BRASIL</td>\n",
              "      <td>DECOLAGEM</td>\n",
              "      <td>DESTRUÍDA</td>\n",
              "    </tr>\n",
              "    <tr>\n",
              "      <th>40150</th>\n",
              "      <td>INCIDENTE GRAVE</td>\n",
              "      <td>COM TREM DE POUSO</td>\n",
              "      <td>SANTA MARIA</td>\n",
              "      <td>RS</td>\n",
              "      <td>2010-03-10</td>\n",
              "      <td>2010</td>\n",
              "      <td>17:20:00</td>\n",
              "      <td>SIM</td>\n",
              "      <td>FINALIZADA</td>\n",
              "      <td>1</td>\n",
              "      <td>NÃO</td>\n",
              "      <td>AVIÃO</td>\n",
              "      <td>BEECH AIRCRAFT</td>\n",
              "      <td>PISTÃO</td>\n",
              "      <td>MONOMOTOR</td>\n",
              "      <td>6</td>\n",
              "      <td>1974</td>\n",
              "      <td>BRASIL</td>\n",
              "      <td>POUSO</td>\n",
              "      <td>LEVE</td>\n",
              "    </tr>\n",
              "  </tbody>\n",
              "</table>\n",
              "</div>"
            ],
            "text/plain": [
              "                   tipo  ... aeronave_nivel_dano\n",
              "codigo                   ...                    \n",
              "40107          ACIDENTE  ...                LEVE\n",
              "40147          ACIDENTE  ...         SUBSTANCIAL\n",
              "40148          ACIDENTE  ...         SUBSTANCIAL\n",
              "40149          ACIDENTE  ...           DESTRUÍDA\n",
              "40150   INCIDENTE GRAVE  ...                LEVE\n",
              "\n",
              "[5 rows x 20 columns]"
            ]
          },
          "metadata": {}
        }
      ]
    },
    {
      "cell_type": "markdown",
      "metadata": {
        "id": "wbEtnJ80EIBO"
      },
      "source": [
        "# Grafico boxplot com media, moda e mediana de assentos, com os outler."
      ]
    },
    {
      "cell_type": "code",
      "metadata": {
        "colab": {
          "base_uri": "https://localhost:8080/",
          "height": 285
        },
        "id": "u6bjUJopz-zp",
        "outputId": "d8f1a2ff-82d1-4151-b6fe-650ab14efc76"
      },
      "source": [
        "import matplotlib.pyplot as plt\n",
        "\n",
        "ocorrencias.boxplot(column ='aeronave_assentos')\n",
        "plt.figure(figsize=(10, 10))\n",
        "plt.show()"
      ],
      "execution_count": null,
      "outputs": [
        {
          "output_type": "display_data",
          "data": {
            "image/png": "[encoded data removed]",
            "text/plain": [
              "<Figure size 432x288 with 1 Axes>"
            ]
          },
          "metadata": {
            "needs_background": "light"
          }
        },
        {
          "output_type": "display_data",
          "data": {
            "text/plain": [
              "<Figure size 720x720 with 0 Axes>"
            ]
          },
          "metadata": {}
        }
      ]
    },
    {
      "cell_type": "markdown",
      "metadata": {
        "id": "Deu0exo1ESty"
      },
      "source": [
        "#frenquencias de ocorrencia por estado sendo especificado em um unico estado \"ACRE\""
      ]
    },
    {
      "cell_type": "code",
      "metadata": {
        "colab": {
          "base_uri": "https://localhost:8080/"
        },
        "id": "HRRbFeZW9fja",
        "outputId": "3763f85c-daab-4fb5-c247-edf77c738be6"
      },
      "source": [
        "acre = ocorrencias[['estado', 'cidade', 'tipo']]\n",
        "\n",
        "\n",
        "occ_cidade =acre['estado']=='AC'\n",
        "filtro_Ac = acre[occ_cidade]\n",
        "print(filtro_Ac)\n",
        "\n"
      ],
      "execution_count": null,
      "outputs": [
        {
          "output_type": "stream",
          "name": "stdout",
          "text": [
            "       estado                cidade             tipo\n",
            "codigo                                              \n",
            "40207      AC       CRUZEIRO DO SUL        INCIDENTE\n",
            "40273      AC            RIO BRANCO        INCIDENTE\n",
            "40295      AC            RIO BRANCO        INCIDENTE\n",
            "40310      AC       CRUZEIRO DO SUL        INCIDENTE\n",
            "39913      AC       CRUZEIRO DO SUL  INCIDENTE GRAVE\n",
            "41579      AC   SANTA ROSA DO PURUS        INCIDENTE\n",
            "41976      AC            RIO BRANCO        INCIDENTE\n",
            "43702      AC            RIO BRANCO         ACIDENTE\n",
            "43711      AC            RIO BRANCO        INCIDENTE\n",
            "44078      AC  MARECHAL THAUMATURGO         ACIDENTE\n",
            "44859      AC            RIO BRANCO        INCIDENTE\n",
            "44882      AC              TARAUACÁ        INCIDENTE\n",
            "44974      AC            RIO BRANCO        INCIDENTE\n",
            "45237      AC      SENADOR GUIOMARD  INCIDENTE GRAVE\n",
            "45447      AC            RIO BRANCO        INCIDENTE\n",
            "45706      AC            RIO BRANCO        INCIDENTE\n",
            "45728      AC            RIO BRANCO        INCIDENTE\n",
            "45841      AC            RIO BRANCO        INCIDENTE\n",
            "45860      AC            RIO BRANCO        INCIDENTE\n",
            "46377      AC            RIO BRANCO        INCIDENTE\n",
            "46477      AC       CRUZEIRO DO SUL        INCIDENTE\n",
            "46763      AC            RIO BRANCO        INCIDENTE\n",
            "46860      AC            RIO BRANCO         ACIDENTE\n",
            "47054      AC            RIO BRANCO        INCIDENTE\n",
            "47755      AC            RIO BRANCO        INCIDENTE\n",
            "50916      AC            RIO BRANCO  INCIDENTE GRAVE\n",
            "50979      AC   SANTA ROSA DO PURUS         ACIDENTE\n",
            "51158      AC            RIO BRANCO        INCIDENTE\n",
            "51267      AC            RIO BRANCO        INCIDENTE\n",
            "51694      AC            RIO BRANCO        INCIDENTE\n",
            "52064      AC            RIO BRANCO        INCIDENTE\n",
            "52070      AC            RIO BRANCO        INCIDENTE\n",
            "52623      AC            RIO BRANCO        INCIDENTE\n",
            "52632      AC        SENA MADUREIRA         ACIDENTE\n",
            "52639      AC         MANOEL URBANO         ACIDENTE\n",
            "52721      AC       CRUZEIRO DO SUL        INCIDENTE\n",
            "60696      AC  MARECHAL THAUMATURGO  INCIDENTE GRAVE\n",
            "60817      AC         MANOEL URBANO         ACIDENTE\n",
            "67140      AC            RIO BRANCO        INCIDENTE\n",
            "77348      AC            RIO BRANCO        INCIDENTE\n",
            "77495      AC                 FEIJÓ         ACIDENTE\n",
            "77690      AC            RIO BRANCO         ACIDENTE\n",
            "78089      AC            RIO BRANCO        INCIDENTE\n",
            "78318      AC  MARECHAL THAUMATURGO        INCIDENTE\n",
            "78338      AC       CRUZEIRO DO SUL  INCIDENTE GRAVE\n",
            "78526      AC       CRUZEIRO DO SUL        INCIDENTE\n",
            "78766      AC       CRUZEIRO DO SUL         ACIDENTE\n",
            "78798      AC            RIO BRANCO        INCIDENTE\n",
            "78864      AC            RIO BRANCO        INCIDENTE\n",
            "78940      AC          PORTO WALTER  INCIDENTE GRAVE\n",
            "78945      AC      NÃO IDENTIFICADA  INCIDENTE GRAVE\n",
            "78948      AC  MARECHAL THAUMATURGO  INCIDENTE GRAVE\n",
            "79050      AC                 FEIJÓ         ACIDENTE\n",
            "79117      AC          ASSIS BRASIL         ACIDENTE\n"
          ]
        }
      ]
    },
    {
      "cell_type": "markdown",
      "metadata": {
        "id": "dE9R8Fq5FgX-"
      },
      "source": [
        "* Classificado a coluna tipo do dataframe"
      ]
    },
    {
      "cell_type": "code",
      "metadata": {
        "colab": {
          "base_uri": "https://localhost:8080/",
          "height": 34
        },
        "id": "kg925tMb93Xh",
        "outputId": "b86a492c-3578-4813-98b2-90d64522f264"
      },
      "source": [
        "display(ocorrencias['tipo'].unique())"
      ],
      "execution_count": null,
      "outputs": [
        {
          "output_type": "display_data",
          "data": {
            "text/plain": [
              "array(['ACIDENTE', 'INCIDENTE GRAVE', 'INCIDENTE'], dtype=object)"
            ]
          },
          "metadata": {}
        }
      ]
    },
    {
      "cell_type": "markdown",
      "metadata": {
        "id": "uzW-3ldDUUXH"
      },
      "source": [
        "# Media de ocorrencias de 2010 até 2019 classificadas por tipo\n",
        "* Grafico das medias de ocorrencias."
      ]
    },
    {
      "cell_type": "code",
      "metadata": {
        "colab": {
          "base_uri": "https://localhost:8080/",
          "height": 610
        },
        "id": "mE-mwFf_ufZ1",
        "outputId": "072ae35b-96c7-4d5a-a3b2-669827744efc"
      },
      "source": [
        "Frequencia_incidentes = { }\n",
        "Frequencia_incidentes['total'] = {}\n",
        "\n",
        "for ss in ocorrencias['tipo'].unique():\n",
        "    Frequencia_incidentes[ss] = {}\n",
        "\n",
        "for inc in ocorrencias['ano'].unique():\n",
        "    \n",
        "    Frequencia_incidentes['total'][inc] = ocorrencias['ano'][ocorrencias['ano'] == inc].count()\n",
        "    \n",
        "    for ss in ocorrencias['tipo'].unique():\n",
        "        \n",
        "        Frequencia_incidentes[ss][inc] = ocorrencias['ano'][(ocorrencias['ano'] == inc) & (ocorrencias['tipo'] == ss)].count()\n",
        "\n",
        "ano_tipo_oco = pd.DataFrame(Frequencia_incidentes)\n",
        "ano_tipo_oco.index.name='Anos'; ano_tipo_oco.columns.name='Ocorrencias'\n",
        "ano_tipo_oco = ano_tipo_oco[['ACIDENTE', 'INCIDENTE GRAVE', 'INCIDENTE']]\n",
        "media_ocorencia_ano = ano_tipo_oco.mean(axis=1, skipna=True)\n",
        "media_ocorencia = ano_tipo_oco.mean(axis=0, skipna=True)\n",
        "media_ocorencia.plot.bar(figsize=(8,8))\n",
        "plt.title('Media Ocorrencia por tipo de 2010 até 2019')\n"
      ],
      "execution_count": null,
      "outputs": [
        {
          "output_type": "execute_result",
          "data": {
            "text/plain": [
              "Text(0.5, 1.0, 'Media Ocorrencia por tipo de 2010 até 2019')"
            ]
          },
          "metadata": {},
          "execution_count": 9
        },
        {
          "output_type": "display_data",
          "data": {
            "image/png": "[encoded data removed]",
            "text/plain": [
              "<Figure size 576x576 with 1 Axes>"
            ]
          },
          "metadata": {
            "needs_background": "light"
          }
        }
      ]
    },
    {
      "cell_type": "markdown",
      "metadata": {
        "id": "Q5kqhrI7Ek5-"
      },
      "source": [
        "# Ocorrencia por estado entre 2010 e 2019\n",
        "* Grafico com de ocorrencias por estado."
      ]
    },
    {
      "cell_type": "code",
      "metadata": {
        "id": "OtdR1Akp_4gP"
      },
      "source": [
        "Frequencia_ano = { }\n",
        "Frequencia_ano['all'] = {}\n",
        "\n",
        "for s in ocorrencias['estado'].unique():\n",
        "    Frequencia_ano[s] = {}\n",
        "\n",
        "for occ in ocorrencias['ano'].unique():\n",
        "    \n",
        "    Frequencia_ano['all'][occ] = ocorrencias['ano'][ocorrencias['ano'] == occ].count()\n",
        "\n",
        "    for s in ocorrencias['estado'].unique():\n",
        "        \n",
        "        Frequencia_ano[s][occ] = ocorrencias['ano'][(ocorrencias['ano'] == occ) & (ocorrencias['estado'] == s)].count()\n",
        "\n",
        "ano_frequencia = pd.DataFrame(Frequencia_ano)\n",
        "\n",
        "ano_frequencia = ano_frequencia['all']\n",
        "ano_frequencia = ano_frequencia.count()\n",
        "ano_frequencia = int(ano_frequencia)\n",
        "\n",
        "\n"
      ],
      "execution_count": null,
      "outputs": []
    },
    {
      "cell_type": "code",
      "metadata": {
        "colab": {
          "base_uri": "https://localhost:8080/",
          "height": 506
        },
        "id": "xtGTULsAz_uS",
        "outputId": "02eb4607-53d9-4e62-b234-e15856e44c3b"
      },
      "source": [
        "plt.style.use(\"ggplot\")\n",
        "ano_frequencia_bar = ocorrencias['estado'].value_counts().plot(kind='bar',\n",
        "                                                         subplots=True,\n",
        "                                                         label='Quantidade de Ocorrencias por Estados',\n",
        "                                                         figsize=(15,8))"
      ],
      "execution_count": null,
      "outputs": [
        {
          "output_type": "display_data",
          "data": {
            "image/png": "[encoded data removed]",
            "text/plain": [
              "<Figure size 1080x576 with 1 Axes>"
            ]
          },
          "metadata": {}
        }
      ]
    },
    {
      "cell_type": "markdown",
      "metadata": {
        "id": "E9POXAQPEv26"
      },
      "source": [
        "# Total de ocorrencias por estado entre 2010 e 2019"
      ]
    },
    {
      "cell_type": "code",
      "metadata": {
        "colab": {
          "base_uri": "https://localhost:8080/"
        },
        "id": "SwUO50JXA1eX",
        "outputId": "4aaf82ce-9fa4-41e1-cc7d-4640ce5fedd5"
      },
      "source": [
        "oco_estado = {}\n",
        "\n",
        "\n",
        "for occ in ocorrencias['estado'].unique():\n",
        "  ano_tipo_oco.mean(axis=1, skipna=True)\n",
        "  print(str(occ) + ':' + str(ocorrencias['estado'][ocorrencias['estado'] == occ].count()))\n"
      ],
      "execution_count": null,
      "outputs": [
        {
          "output_type": "stream",
          "name": "stdout",
          "text": [
            "PA:263\n",
            "PR:441\n",
            "MS:132\n",
            "GO:286\n",
            "RS:334\n",
            "MG:482\n",
            "AM:217\n",
            "TO:46\n",
            "RJ:480\n",
            "AC:54\n",
            "SP:1239\n",
            "SC:166\n",
            "MT:255\n",
            "BA:200\n",
            "PE:90\n",
            "DF:129\n",
            "CE:78\n",
            "ES:70\n",
            "MA:68\n",
            "RR:49\n",
            "AP:9\n",
            "AL:30\n",
            "RO:30\n",
            "SE:21\n",
            "PB:23\n",
            "PI:36\n",
            "RN:14\n"
          ]
        }
      ]
    },
    {
      "cell_type": "markdown",
      "metadata": {
        "id": "sijk169hE02A"
      },
      "source": [
        "# Incidencia de ocorrencias de 2010 a 2019 classificadas por tipo de motor"
      ]
    },
    {
      "cell_type": "code",
      "metadata": {
        "id": "RPGOaSc3kNib"
      },
      "source": [
        "tipo_moto = ocorrencias['motor_tipo'].head().count()"
      ],
      "execution_count": null,
      "outputs": []
    },
    {
      "cell_type": "code",
      "metadata": {
        "colab": {
          "base_uri": "https://localhost:8080/",
          "height": 575
        },
        "id": "-Q-dyFBfk9pg",
        "outputId": "70dc4a27-2861-4ac5-9a88-c38fcd4abe65"
      },
      "source": [
        "plt.style.use(\"ggplot\")\n",
        "tipos_motor = ocorrencias['motor_tipo'].value_counts().plot(kind='bar',\n",
        "                                                         subplots=True,\n",
        "                                                         label='Ocorrencia por tipo de motores',\n",
        "                                                         figsize=(15,8))"
      ],
      "execution_count": null,
      "outputs": [
        {
          "output_type": "display_data",
          "data": {
            "image/png": "[encoded data removed]",
            "text/plain": [
              "<Figure size 1080x576 with 1 Axes>"
            ]
          },
          "metadata": {}
        }
      ]
    },
    {
      "cell_type": "markdown",
      "metadata": {
        "id": "SI2we-OSFIhL"
      },
      "source": [
        "* Percentual de ocorrencias por tipo, e seus percentuais."
      ]
    },
    {
      "cell_type": "code",
      "metadata": {
        "colab": {
          "base_uri": "https://localhost:8080/",
          "height": 609
        },
        "id": "3AL8z6q1FJFI",
        "outputId": "bcac5b9c-2e77-4711-a5a0-91ea4c25ba83"
      },
      "source": [
        "tipo_occ = ocorrencias[['tipo']].value_counts()\n",
        "tipo_occ.plot.pie(autopct='%1.2f',figsize=(10,10))\n",
        "plt.title(\"Percentual de classificação por tipo entre 2010 e 2019\")"
      ],
      "execution_count": null,
      "outputs": [
        {
          "output_type": "execute_result",
          "data": {
            "text/plain": [
              "Text(0.5, 1.0, 'Percentual de classificação por tipo entre 2010 e 2019')"
            ]
          },
          "metadata": {},
          "execution_count": 15
        },
        {
          "output_type": "display_data",
          "data": {
            "image/png": "[encoded data removed]",
            "text/plain": [
              "<Figure size 720x720 with 1 Axes>"
            ]
          },
          "metadata": {}
        }
      ]
    },
    {
      "cell_type": "markdown",
      "metadata": {
        "id": "OIdDN_7lGArx"
      },
      "source": [
        "# Media, Mediana, Moda de Idade das arenaves corelacionada por tipo de \"Incidente,Incidente Grave, Acidente\"\n",
        "* com boxplot mostrado suas incidencias \"media, mediana, min, max, total\""
      ]
    },
    {
      "cell_type": "code",
      "metadata": {
        "colab": {
          "base_uri": "https://localhost:8080/",
          "height": 283
        },
        "id": "RG1gfi-1GBr_",
        "outputId": "bb926506-a256-4b4d-f328-a53097439732"
      },
      "source": [
        "tipo_occ_ano_erona = ocorrencias[['tipo', 'aeronave_ano_fabricacao']]\n",
        "tipo_occ_ano_erona = tipo_occ_ano_erona['tipo'] == 'INCIDENTE'\n",
        "tipo_occ_ano_erona = ocorrencias[tipo_occ_ano_erona]\n",
        "tipo_occ_remove = tipo_occ_ano_erona.loc[(tipo_occ_ano_erona['aeronave_ano_fabricacao'] == 0)]\n",
        "ult_tipo = tipo_occ_ano_erona.drop(tipo_occ_remove.index)\n",
        "ult_tipo['idade_aeronave'] = 2021 - ult_tipo['aeronave_ano_fabricacao']\n",
        "final_inci = ult_tipo['idade_aeronave'].describe()\n",
        "plt.boxplot(final_inci)\n",
        "plt.title(\"Percentiais de ano por tipo Incidente\")\n",
        "plt.show()"
      ],
      "execution_count": null,
      "outputs": [
        {
          "output_type": "display_data",
          "data": {
            "image/png": "[encoded data removed]",
            "text/plain": [
              "<Figure size 432x288 with 1 Axes>"
            ]
          },
          "metadata": {}
        }
      ]
    },
    {
      "cell_type": "code",
      "metadata": {
        "colab": {
          "base_uri": "https://localhost:8080/",
          "height": 439
        },
        "id": "lGhO5bpNGXP5",
        "outputId": "59f677fa-1666-411e-fd5b-a7b740becaed"
      },
      "source": [
        "tipo_occ_ano_erona = ocorrencias[['tipo', 'aeronave_ano_fabricacao']]\n",
        "tipo_occ_ano_erona = tipo_occ_ano_erona['tipo'] == 'INCIDENTE GRAVE'\n",
        "tipo_occ_ano_erona = ocorrencias[tipo_occ_ano_erona]\n",
        "tipo_occ_remove = tipo_occ_ano_erona.loc[(tipo_occ_ano_erona['aeronave_ano_fabricacao'] == 0)]\n",
        "ult_tipo = tipo_occ_ano_erona.drop(tipo_occ_remove.index)\n",
        "ult_tipo['idade_aeronave'] = 2021 - ult_tipo['aeronave_ano_fabricacao']\n",
        "final_incidente_grave = ult_tipo['idade_aeronave'].describe()\n",
        "print(final_incidente_grave)\n",
        "plt.boxplot(final_incidente_grave)\n",
        "plt.title(\"Percentiais de ano por tipo Incidente Grave\")\n",
        "plt.show()"
      ],
      "execution_count": null,
      "outputs": [
        {
          "output_type": "stream",
          "name": "stdout",
          "text": [
            "count     631.000000\n",
            "mean       19.559429\n",
            "std       319.261448\n",
            "min     -7978.000000\n",
            "25%        18.000000\n",
            "50%        33.000000\n",
            "75%        43.000000\n",
            "max        81.000000\n",
            "Name: idade_aeronave, dtype: float64\n"
          ]
        },
        {
          "output_type": "display_data",
          "data": {
            "image/png": "[encoded data removed]",
            "text/plain": [
              "<Figure size 432x288 with 1 Axes>"
            ]
          },
          "metadata": {}
        }
      ]
    },
    {
      "cell_type": "code",
      "metadata": {
        "colab": {
          "base_uri": "https://localhost:8080/",
          "height": 438
        },
        "id": "yaj_cLTqGyl9",
        "outputId": "3028ef5a-060e-4a53-937d-560d23e95840"
      },
      "source": [
        "tipo_occ_ano_erona = ocorrencias[['tipo', 'aeronave_ano_fabricacao']]\n",
        "tipo_occ_ano_erona = tipo_occ_ano_erona['tipo'] == 'ACIDENTE'\n",
        "tipo_occ_ano_erona = ocorrencias[tipo_occ_ano_erona]\n",
        "tipo_occ_remove = tipo_occ_ano_erona.loc[(tipo_occ_ano_erona['aeronave_ano_fabricacao'] == 0)]\n",
        "ult_tipo = tipo_occ_ano_erona.drop(tipo_occ_remove.index)\n",
        "ult_tipo['idade_aeronave'] = 2021 - ult_tipo['aeronave_ano_fabricacao']\n",
        "final_acidentes = ult_tipo['idade_aeronave'].describe()\n",
        "print(final_acidentes)\n",
        "plt.boxplot(final_acidentes)\n",
        "plt.title(\"Percentiais de ano por tipo Acidente\")\n",
        "plt.show()"
      ],
      "execution_count": null,
      "outputs": [
        {
          "output_type": "stream",
          "name": "stdout",
          "text": [
            "count    1561.000000\n",
            "mean       31.273543\n",
            "std        16.082165\n",
            "min         4.000000\n",
            "25%        16.000000\n",
            "50%        31.000000\n",
            "75%        44.000000\n",
            "max        85.000000\n",
            "Name: idade_aeronave, dtype: float64\n"
          ]
        },
        {
          "output_type": "display_data",
          "data": {
            "image/png": "[encoded data removed]",
            "text/plain": [
              "<Figure size 432x288 with 1 Axes>"
            ]
          },
          "metadata": {}
        }
      ]
    },
    {
      "cell_type": "code",
      "metadata": {
        "id": "oCm8WOMJhB5K"
      },
      "source": [
        "aeroano = ocorrencias['aeronave_ano_fabricacao'] "
      ],
      "execution_count": 5,
      "outputs": []
    },
    {
      "cell_type": "code",
      "metadata": {
        "colab": {
          "base_uri": "https://localhost:8080/"
        },
        "id": "NhzgXhQeiHq9",
        "outputId": "b6ba5254-acf4-427a-bdb0-b27f9404bfc1"
      },
      "source": [
        "aeroano.median()"
      ],
      "execution_count": 7,
      "outputs": [
        {
          "output_type": "execute_result",
          "data": {
            "text/plain": [
              "1992.0"
            ]
          },
          "metadata": {},
          "execution_count": 7
        }
      ]
    },
    {
      "cell_type": "code",
      "metadata": {
        "id": "QiI3qHEmi9Tv"
      },
      "source": [
        "aeroanoval = aeroano.value_counts()"
      ],
      "execution_count": 14,
      "outputs": []
    },
    {
      "cell_type": "code",
      "metadata": {
        "colab": {
          "base_uri": "https://localhost:8080/"
        },
        "id": "q_C8jbHcibBv",
        "outputId": "9d4edc17-c1fb-445c-f3c0-df3d055388af"
      },
      "source": [
        "aeroanoval.rank()"
      ],
      "execution_count": 41,
      "outputs": [
        {
          "output_type": "execute_result",
          "data": {
            "text/plain": [
              "0       79.0\n",
              "2008    78.0\n",
              "2010    77.0\n",
              "2009    76.0\n",
              "2011    75.0\n",
              "        ... \n",
              "1956     3.5\n",
              "1954     3.5\n",
              "1940     3.5\n",
              "9999     3.5\n",
              "1942     3.5\n",
              "Name: aeronave_ano_fabricacao, Length: 79, dtype: float64"
            ]
          },
          "metadata": {},
          "execution_count": 41
        }
      ]
    },
    {
      "cell_type": "code",
      "metadata": {
        "id": "omfe1PfVzFKB"
      },
      "source": [
        "aeroval_remove = aeroanoval.loc[(aeroanoval == 0)]\n",
        "aeroanoval = aeroanoval.drop(aeroval_remove.index)"
      ],
      "execution_count": 95,
      "outputs": []
    },
    {
      "cell_type": "code",
      "metadata": {
        "id": "7ZQd8lYNmWWn"
      },
      "source": [
        "aeroanoidx = aeroanoval.head(10)"
      ],
      "execution_count": 96,
      "outputs": []
    },
    {
      "cell_type": "code",
      "metadata": {
        "colab": {
          "base_uri": "https://localhost:8080/",
          "height": 516
        },
        "id": "QgyhfPJlmopx",
        "outputId": "9e06992a-92b4-4e93-93b3-43213ba15e8b"
      },
      "source": [
        "aeroanoidx.plot.bar(\"ggplot\", figsize=(15,8))"
      ],
      "execution_count": 97,
      "outputs": [
        {
          "output_type": "execute_result",
          "data": {
            "text/plain": [
              "<matplotlib.axes._subplots.AxesSubplot at 0x7fb0427902d0>"
            ]
          },
          "metadata": {},
          "execution_count": 97
        },
        {
          "output_type": "display_data",
          "data": {
            "image/png": "[encoded data removed]",
            "text/plain": [
              "<Figure size 1080x576 with 1 Axes>"
            ]
          },
          "metadata": {
            "needs_background": "light"
          }
        }
      ]
    },
    {
      "cell_type": "code",
      "metadata": {
        "colab": {
          "base_uri": "https://localhost:8080/"
        },
        "id": "AlU8bNn4nLa6",
        "outputId": "f42aef78-70ed-4233-c803-4fb6bcd2a934"
      },
      "source": [
        "aerofab_coluna_oco = ocorrencias['aeronave_fabricante']\n",
        "aerofab_coluna_oco"
      ],
      "execution_count": 29,
      "outputs": [
        {
          "output_type": "execute_result",
          "data": {
            "text/plain": [
              "codigo\n",
              "40107    NEIVA INDUSTRIA AERONAUTICA\n",
              "40147                 PIPER AIRCRAFT\n",
              "40148                CESSNA AIRCRAFT\n",
              "40149                        XAVANTE\n",
              "40150                 BEECH AIRCRAFT\n",
              "                    ...             \n",
              "79117        FABRICANTE DESCONHECIDO\n",
              "79119        FABRICANTE DESCONHECIDO\n",
              "79123                  INDETERMINADO\n",
              "79203                CESSNA AIRCRAFT\n",
              "79227                 PIPER AIRCRAFT\n",
              "Name: aeronave_fabricante, Length: 5242, dtype: object"
            ]
          },
          "metadata": {},
          "execution_count": 29
        }
      ]
    },
    {
      "cell_type": "code",
      "metadata": {
        "id": "a1zKl9TFnNQ5"
      },
      "source": [
        "aerofab_valor = aerofab_coluna_oco.value_counts()"
      ],
      "execution_count": 30,
      "outputs": []
    },
    {
      "cell_type": "code",
      "metadata": {
        "colab": {
          "base_uri": "https://localhost:8080/"
        },
        "id": "7WuMrxobnUXd",
        "outputId": "84bc5d65-e008-4cca-e327-8c639db6f8f0"
      },
      "source": [
        "aerofab_valor.rank()"
      ],
      "execution_count": 46,
      "outputs": [
        {
          "output_type": "execute_result",
          "data": {
            "text/plain": [
              "CESSNA AIRCRAFT                   223.0\n",
              "EMBRAER                           222.0\n",
              "NEIVA INDUSTRIA AERONAUTICA       221.0\n",
              "PIPER AIRCRAFT                    220.0\n",
              "INDETERMINADO                     219.0\n",
              "                                  ...  \n",
              "NILSON SULZBACH PERES              69.5\n",
              "ANTONIO ETTORE NALLIN              69.5\n",
              "GUIMBAL                            69.5\n",
              "SERGIO MAURO                       69.5\n",
              "DANIEL DO PRADO FERREIRA PINTO     69.5\n",
              "Name: aeronave_fabricante, Length: 223, dtype: float64"
            ]
          },
          "metadata": {},
          "execution_count": 46
        }
      ]
    },
    {
      "cell_type": "code",
      "metadata": {
        "id": "flmS31wZqgDm"
      },
      "source": [
        "h_aerofab_valor = aerofab_valor.head(10)"
      ],
      "execution_count": 47,
      "outputs": []
    },
    {
      "cell_type": "code",
      "metadata": {
        "colab": {
          "base_uri": "https://localhost:8080/",
          "height": 500
        },
        "id": "b8wrKCxKqqwv",
        "outputId": "2afc8688-f42b-4445-a4ce-8ece7023be22"
      },
      "source": [
        "h_aerofab_valor.plot.barh('ggplot',figsize=(15,8))"
      ],
      "execution_count": 81,
      "outputs": [
        {
          "output_type": "execute_result",
          "data": {
            "text/plain": [
              "<matplotlib.axes._subplots.AxesSubplot at 0x7fb042b77d50>"
            ]
          },
          "metadata": {},
          "execution_count": 81
        },
        {
          "output_type": "display_data",
          "data": {
            "image/png": "[encoded data removed]",
            "text/plain": [
              "<Figure size 1080x576 with 1 Axes>"
            ]
          },
          "metadata": {
            "needs_background": "light"
          }
        }
      ]
    },
    {
      "cell_type": "code",
      "metadata": {
        "colab": {
          "base_uri": "https://localhost:8080/"
        },
        "id": "CcV89sWCq64E",
        "outputId": "fc64b6d7-7fa8-451f-d94e-292bfa5408d7"
      },
      "source": [
        "motorNum_coluna_oco = ocorrencias['aeronave_motor_quantidade']\n",
        "motorNum_coluna_oco\n"
      ],
      "execution_count": 59,
      "outputs": [
        {
          "output_type": "execute_result",
          "data": {
            "text/plain": [
              "codigo\n",
              "40107        MONOMOTOR\n",
              "40147          BIMOTOR\n",
              "40148        MONOMOTOR\n",
              "40149        MONOMOTOR\n",
              "40150        MONOMOTOR\n",
              "             ...      \n",
              "79117    INDETERMINADO\n",
              "79119    INDETERMINADO\n",
              "79123       SEM TRAÇÃO\n",
              "79203        MONOMOTOR\n",
              "79227          BIMOTOR\n",
              "Name: aeronave_motor_quantidade, Length: 5242, dtype: object"
            ]
          },
          "metadata": {},
          "execution_count": 59
        }
      ]
    },
    {
      "cell_type": "code",
      "metadata": {
        "id": "zpVa_0dusm_Z"
      },
      "source": [
        "vmotorNum_coluna_oco = motorNum_coluna_oco.value_counts()"
      ],
      "execution_count": 60,
      "outputs": []
    },
    {
      "cell_type": "code",
      "metadata": {
        "colab": {
          "base_uri": "https://localhost:8080/"
        },
        "id": "48OidVH8sroh",
        "outputId": "3041ea15-5574-4717-939e-87df5a5702f2"
      },
      "source": [
        "vmotorNum_coluna_oco.rank()"
      ],
      "execution_count": 61,
      "outputs": [
        {
          "output_type": "execute_result",
          "data": {
            "text/plain": [
              "MONOMOTOR        6.0\n",
              "BIMOTOR          5.0\n",
              "SEM TRAÇÃO       4.0\n",
              "TRIMOTOR         3.0\n",
              "INDETERMINADO    2.0\n",
              "QUADRIMOTOR      1.0\n",
              "Name: aeronave_motor_quantidade, dtype: float64"
            ]
          },
          "metadata": {},
          "execution_count": 61
        }
      ]
    },
    {
      "cell_type": "code",
      "metadata": {
        "colab": {
          "base_uri": "https://localhost:8080/",
          "height": 576
        },
        "id": "PzCdlaqfs-kj",
        "outputId": "033c97c1-8f0e-4023-be7c-2cae02f753c4"
      },
      "source": [
        "vmotorNum_coluna_oco.plot.bar('ggplot',figsize=(15,8))"
      ],
      "execution_count": 79,
      "outputs": [
        {
          "output_type": "execute_result",
          "data": {
            "text/plain": [
              "<matplotlib.axes._subplots.AxesSubplot at 0x7fb042cc5990>"
            ]
          },
          "metadata": {},
          "execution_count": 79
        },
        {
          "output_type": "display_data",
          "data": {
            "image/png": "[encoded data removed]",
            "text/plain": [
              "<Figure size 1080x576 with 1 Axes>"
            ]
          },
          "metadata": {
            "needs_background": "light"
          }
        }
      ]
    },
    {
      "cell_type": "code",
      "metadata": {
        "colab": {
          "base_uri": "https://localhost:8080/"
        },
        "id": "Co-ImsBJtV2o",
        "outputId": "42b2ad18-4068-442e-aaa6-ebba2f135828"
      },
      "source": [
        "aeroPais_coluna_oco = ocorrencias['aeronave_pais_fabricante']\n",
        "aeroPais_coluna_oco\n"
      ],
      "execution_count": 66,
      "outputs": [
        {
          "output_type": "execute_result",
          "data": {
            "text/plain": [
              "codigo\n",
              "40107    BRASIL\n",
              "40147    BRASIL\n",
              "40148    BRASIL\n",
              "40149    BRASIL\n",
              "40150    BRASIL\n",
              "          ...  \n",
              "79117    BRASIL\n",
              "79119    BRASIL\n",
              "79123    BRASIL\n",
              "79203    BRASIL\n",
              "79227    BRASIL\n",
              "Name: aeronave_pais_fabricante, Length: 5242, dtype: object"
            ]
          },
          "metadata": {},
          "execution_count": 66
        }
      ]
    },
    {
      "cell_type": "code",
      "metadata": {
        "id": "sJUnxnuQtez6"
      },
      "source": [
        "vaeropais = aeroPais_coluna_oco.value_counts()"
      ],
      "execution_count": 67,
      "outputs": []
    },
    {
      "cell_type": "code",
      "metadata": {
        "colab": {
          "base_uri": "https://localhost:8080/"
        },
        "id": "FxcmHCnxtx70",
        "outputId": "7c6319a6-bfa4-416f-d8a9-6277a5c4b6a1"
      },
      "source": [
        "vaeropais.rank()"
      ],
      "execution_count": 70,
      "outputs": [
        {
          "output_type": "execute_result",
          "data": {
            "text/plain": [
              "BRASIL              20.0\n",
              "ESTADOS UNIDOS      19.0\n",
              "NÃO IDENTIFICADO    18.0\n",
              "PARAGUAI            17.0\n",
              "PORTUGAL            15.5\n",
              "CHILE               15.5\n",
              "BOLÍVIA             14.0\n",
              "ALEMANHA            12.5\n",
              "ESPANHA             12.5\n",
              "PANAMÁ               9.5\n",
              "ARGENTINA            9.5\n",
              "COLÔMBIA             9.5\n",
              "FRANÇA               9.5\n",
              "ITÁLIA               4.0\n",
              "URUGUAI              4.0\n",
              "POLÔNIA              4.0\n",
              "CINGAPURA            4.0\n",
              "VENEZUELA            4.0\n",
              "ÁFRICA DO SUL        4.0\n",
              "SUIÇA                4.0\n",
              "Name: aeronave_pais_fabricante, dtype: float64"
            ]
          },
          "metadata": {},
          "execution_count": 70
        }
      ]
    },
    {
      "cell_type": "code",
      "metadata": {
        "colab": {
          "base_uri": "https://localhost:8080/",
          "height": 586
        },
        "id": "FGCl5u9vtkzj",
        "outputId": "0e4f1fe7-abe1-4f07-be40-4eb93d7dfe6b"
      },
      "source": [
        "vaeropais.plot.bar('ggplot',figsize=(15,8))"
      ],
      "execution_count": 80,
      "outputs": [
        {
          "output_type": "execute_result",
          "data": {
            "text/plain": [
              "<matplotlib.axes._subplots.AxesSubplot at 0x7fb042c68650>"
            ]
          },
          "metadata": {},
          "execution_count": 80
        },
        {
          "output_type": "display_data",
          "data": {
            "image/png": "[encoded data removed]",
            "text/plain": [
              "<Figure size 1080x576 with 1 Axes>"
            ]
          },
          "metadata": {
            "needs_background": "light"
          }
        }
      ]
    },
    {
      "cell_type": "code",
      "metadata": {
        "id": "dN-j7sFEt5ch"
      },
      "source": [
        "aerodano = ocorrencias['aeronave_nivel_dano']"
      ],
      "execution_count": 71,
      "outputs": []
    },
    {
      "cell_type": "code",
      "metadata": {
        "id": "lENR7QPIuQy3"
      },
      "source": [
        "vaerodano = aerodano.value_counts()"
      ],
      "execution_count": 75,
      "outputs": []
    },
    {
      "cell_type": "code",
      "metadata": {
        "colab": {
          "base_uri": "https://localhost:8080/",
          "height": 484
        },
        "id": "v0QI_cbcucod",
        "outputId": "0e3c1eb6-aa17-40a3-ff59-948fcafba2fb"
      },
      "source": [
        "vaerodano.plot.pie(figsize=(15,8))"
      ],
      "execution_count": 77,
      "outputs": [
        {
          "output_type": "execute_result",
          "data": {
            "text/plain": [
              "<matplotlib.axes._subplots.AxesSubplot at 0x7fb042da5f90>"
            ]
          },
          "metadata": {},
          "execution_count": 77
        },
        {
          "output_type": "display_data",
          "data": {
            "image/png": "[encoded data removed]",
            "text/plain": [
              "<Figure size 1080x576 with 1 Axes>"
            ]
          },
          "metadata": {}
        }
      ]
    },
    {
      "cell_type": "code",
      "metadata": {
        "colab": {
          "base_uri": "https://localhost:8080/"
        },
        "id": "Whtb4sMk373Q",
        "outputId": "7b64da88-a28c-4690-fc41-0894e02f189e"
      },
      "source": [
        "aerotipo = ocorrencias['aeronave_tipo']\n",
        "aerotipo"
      ],
      "execution_count": 99,
      "outputs": [
        {
          "output_type": "execute_result",
          "data": {
            "text/plain": [
              "codigo\n",
              "40107            AVIÃO\n",
              "40147            AVIÃO\n",
              "40148            AVIÃO\n",
              "40149            AVIÃO\n",
              "40150            AVIÃO\n",
              "             ...      \n",
              "79117    INDETERMINADO\n",
              "79119    INDETERMINADO\n",
              "79123            TRIKE\n",
              "79203            AVIÃO\n",
              "79227            AVIÃO\n",
              "Name: aeronave_tipo, Length: 5242, dtype: object"
            ]
          },
          "metadata": {},
          "execution_count": 99
        }
      ]
    },
    {
      "cell_type": "code",
      "metadata": {
        "id": "08NiYTVQ4EHx"
      },
      "source": [
        "vaerotipo = aerotipo.value_counts()"
      ],
      "execution_count": 100,
      "outputs": []
    },
    {
      "cell_type": "code",
      "metadata": {
        "colab": {
          "base_uri": "https://localhost:8080/"
        },
        "id": "6HRli0WR4KM8",
        "outputId": "ebb612be-09ba-4688-99cf-0674c6646373"
      },
      "source": [
        "vaerotipo.rank()"
      ],
      "execution_count": 101,
      "outputs": [
        {
          "output_type": "execute_result",
          "data": {
            "text/plain": [
              "AVIÃO            10.0\n",
              "HELICÓPTERO       9.0\n",
              "ULTRALEVE         8.0\n",
              "INDETERMINADO     7.0\n",
              "PLANADOR          6.0\n",
              "ANFÍBIO           5.0\n",
              "TRIKE             4.0\n",
              "HIDROAVIÃO        2.0\n",
              "BALÃO             2.0\n",
              "DIRIGÍVEL         2.0\n",
              "Name: aeronave_tipo, dtype: float64"
            ]
          },
          "metadata": {},
          "execution_count": 101
        }
      ]
    },
    {
      "cell_type": "code",
      "metadata": {
        "colab": {
          "base_uri": "https://localhost:8080/",
          "height": 500
        },
        "id": "00B7Br504Pvb",
        "outputId": "f14e0f9a-5bca-4d52-f334-aa2527dbaa14"
      },
      "source": [
        "vaerotipo.plot.barh(figsize=(15,8))"
      ],
      "execution_count": 103,
      "outputs": [
        {
          "output_type": "execute_result",
          "data": {
            "text/plain": [
              "<matplotlib.axes._subplots.AxesSubplot at 0x7fb04265b510>"
            ]
          },
          "metadata": {},
          "execution_count": 103
        },
        {
          "output_type": "display_data",
          "data": {
            "image/png": "[encoded data removed]",
            "text/plain": [
              "<Figure size 1080x576 with 1 Axes>"
            ]
          },
          "metadata": {
            "needs_background": "light"
          }
        }
      ]
    },
    {
      "cell_type": "markdown",
      "metadata": {
        "id": "7GEqo3sPLYel"
      },
      "source": [
        "# Conclusão\n",
        "\n",
        " Ciência de dados é uma área interdisciplinar voltada para o estudo e a análise de dados econômicos, financeiros e sociais, estruturados e não-estruturados, que visa a extração de conhecimento, detecção de padrões e/ou obtenção de insights para possíveis tomadas de decisão. \n"
      ]
    },
    {
      "cell_type": "markdown",
      "metadata": {
        "id": "uWEMss4D4kuj"
      },
      "source": [
        ""
      ]
    },
    {
      "cell_type": "markdown",
      "metadata": {
        "id": "tiESwW_iHHqf"
      },
      "source": [
        "# Bibliografia\n",
        "* MCKINNEY, Wes. Phyton para analise de dados: tratamento de dados com pandas, numpy e ipython. 7ª ed. São Paulo: Novatec, 2021.\n",
        "* Menezes, Nilo Ney Coutinho. Introdução à programação com python: Algoritmo e lógica de programação para iniciantes. 3º ed. Novatec, 2019.\n",
        "* Bruce, Peter. Estatística Prática para cientista de dados: 50 conceitos básicos. 1º ed. Rio de Janeiro, 2019.\n",
        "* Python and this documentation, 2021. Disponível em: https://docs.python.org/. Acesso em 10/novembro/2021.\n",
        "* Pandas DataFrame, 2021. Disponível em: https://www.w3resource.com/pandas/dataframe. Acesso em 10/novembro/2021."
      ]
    }
  ]
}